{
 "cells": [
  {
   "cell_type": "code",
   "execution_count": 1,
   "metadata": {
    "collapsed": true
   },
   "outputs": [],
   "source": [
    "import pandas as pd\n",
    "from sklearn.linear_model import LogisticRegression as lm\n",
    "from sklearn.model_selection import train_test_split\n",
    "from sklearn import tree\n",
    "from matplotlib import pyplot as plt    \n",
    "from sklearn.metrics import mean_squared_error, r2_score, accuracy_score"
   ]
  },
  {
   "cell_type": "markdown",
   "metadata": {},
   "source": [
    "Cancer Prediction data set from Kaggle:\n",
    "URL :https://www.kaggle.com/uciml/breast-cancer-wisconsin-data/home"
   ]
  },
  {
   "cell_type": "code",
   "execution_count": 2,
   "metadata": {
    "collapsed": true
   },
   "outputs": [
    {
     "name": "stdout",
     "output_type": "stream",
     "text": [
      "         id diagnosis  radius_mean  texture_mean  perimeter_mean  area_mean  \\\n0    842302         M        17.99         10.38          122.80     1001.0   \n1    842517         M        20.57         17.77          132.90     1326.0   \n2  84300903         M        19.69         21.25          130.00     1203.0   \n3  84348301         M        11.42         20.38           77.58      386.1   \n\n   smoothness_mean  compactness_mean  concavity_mean  concave points_mean  \\\n0          0.11840           0.27760          0.3001              0.14710   \n1          0.08474           0.07864          0.0869              0.07017   \n2          0.10960           0.15990          0.1974              0.12790   \n3          0.14250           0.28390          0.2414              0.10520   \n\n      ...       texture_worst  perimeter_worst  area_worst  smoothness_worst  \\\n0     ...               17.33           184.60      2019.0            0.1622   \n1     ...               23.41           158.80      1956.0            0.1238   \n2     ...               25.53           152.50      1709.0            0.1444   \n3     ...               26.50            98.87       567.7            0.2098   \n\n   compactness_worst  concavity_worst  concave points_worst  symmetry_worst  \\\n0             0.6656           0.7119                0.2654          0.4601   \n1             0.1866           0.2416                0.1860          0.2750   \n2             0.4245           0.4504                0.2430          0.3613   \n3             0.8663           0.6869                0.2575          0.6638   \n\n   fractal_dimension_worst  Unnamed: 32  \n0                  0.11890          NaN  \n1                  0.08902          NaN  \n2                  0.08758          NaN  \n3                  0.17300          NaN  \n\n[4 rows x 33 columns]\n"
     ]
    },
    {
     "data": {
      "text/plain": [
       "(569, 33)"
      ]
     },
     "execution_count": 2,
     "metadata": {},
     "output_type": "execute_result"
    }
   ],
   "source": [
    "cancer = pd.read_csv('C:/Exercise/breast_cancer/data.csv')\n",
    "print(cancer.head(4))\n",
    "cancer.shape"
   ]
  },
  {
   "cell_type": "markdown",
   "metadata": {},
   "source": [
    "Dropping off unwanted columns and converting categorical variable into binary format"
   ]
  },
  {
   "cell_type": "code",
   "execution_count": null,
   "metadata": {
    "collapsed": true
   },
   "outputs": [],
   "source": [
    "cancer = cancer.drop(['id','Unnamed: 32'],axis=1)\n",
    "#convert diagnosis into binary(1=M, 0=B)\n",
    "diagnosis ={'diagnosis':{'M':1,'B':0}}\n",
    "cancer =cancer.replace(diagnosis)\n",
    "\n",
    "print(cancer.head(1))"
   ]
  },
  {
   "cell_type": "code",
   "execution_count": 7,
   "metadata": {},
   "outputs": [
    {
     "data": {
      "text/plain": [
       "<matplotlib.figure.Figure at 0x144acbce2b0>"
      ]
     },
     "execution_count": 0,
     "metadata": {},
     "output_type": "execute_result"
    }
   ],
   "source": [
    "%matplotlib inline\n",
    "plt.figure()\n",
    "cancer.diff().hist(alpha=0.5,figsize=(14, 14))\n",
    "plt.legend()\n",
    "plt.show()"
   ]
  },
  {
   "cell_type": "markdown",
   "metadata": {},
   "source": [
    "Splitting of dataset into training and test data set with a ratio of 70/30"
   ]
  },
  {
   "cell_type": "code",
   "execution_count": 47,
   "metadata": {},
   "outputs": [
    {
     "name": "stdout",
     "output_type": "stream",
     "text": [
      "<class 'pandas.core.frame.DataFrame'>\n"
     ]
    }
   ],
   "source": [
    "train,test=train_test_split(cancer,test_size=0.3,random_state=14)\n",
    "print(type(train))"
   ]
  },
  {
   "cell_type": "markdown",
   "metadata": {},
   "source": [
    "Method for building models using all features:\n",
    "Fitting the model, predicting for data and calculating Mean Squared Error , Variance Score and Accuracy score"
   ]
  },
  {
   "cell_type": "code",
   "execution_count": 52,
   "metadata": {},
   "outputs": [],
   "source": [
    "def building_model_all(model,train,test):\n",
    "    y_train=train[['diagnosis']]\n",
    "    x_train=train[train.columns[1:]]\n",
    "    y_test=test[['diagnosis']]\n",
    "    x_test=test[test.columns[1:]]\n",
    "    model.fit(x_train,y_train)\n",
    "    y_prd = model.predict(x_test)\n",
    "    #print(\"coefficient: \"+ str(model.coef_))\n",
    "    print(\"\\nmean Squared error : \\n\")\n",
    "    print(mean_squared_error(y_test,y_prd))\n",
    "    print('\\nVariance score :\\n')\n",
    "    print(r2_score(y_test,y_prd))\n",
    "    print(\"\\naccuracy score: \\n\")\n",
    "    print(accuracy_score(y_test,y_prd))\n",
    "\n"
   ]
  },
  {
   "cell_type": "markdown",
   "metadata": {},
   "source": [
    "Method for building models using selective features:\n",
    "Fitting the model, predicting for data and calculating Mean Squared Error , Variance Score and Accuracy score"
   ]
  },
  {
   "cell_type": "code",
   "execution_count": 50,
   "metadata": {
    "collapsed": true
   },
   "outputs": [],
   "source": [
    "def building_model_selective(model,train,test):\n",
    "    y_train = train[['diagnosis']]\n",
    "    names = ['radius_mean','perimeter_mean', 'area_mean', 'compactness_mean']\n",
    "    x_train = train[names]\n",
    "    y_test = test[['diagnosis']]\n",
    "    x_test = test[names]\n",
    "    model.fit(x_train,y_train)\n",
    "    y_prd = model.predict(x_test)\n",
    "    #print(\"\\ncoefficient: \"+ str(model.coef_))\n",
    "    print(\"\\nmean Squared error : \\n\")\n",
    "    print(mean_squared_error(y_test,y_prd))\n",
    "    print('\\nVariance score :\\n')\n",
    "    print(r2_score(y_test,y_prd))\n",
    "    print(\"\\naccuracy score: \\n\")\n",
    "    print(accuracy_score(y_test,y_prd))"
   ]
  },
  {
   "cell_type": "markdown",
   "metadata": {},
   "source": [
    "Building of model using Logistic Regression using all and selective features"
   ]
  },
  {
   "cell_type": "code",
   "execution_count": 45,
   "metadata": {},
   "outputs": [
    {
     "name": "stdout",
     "output_type": "stream",
     "text": [
      "coefficient: [[-2.07399668e+00  5.66123599e-03  7.91022194e-02 -1.16873026e-03\n   1.46915759e-01  3.98101950e-01  6.10957793e-01  3.30724547e-01\n   1.60054813e-01  2.63930866e-02  6.48284137e-02 -7.12604311e-01\n  -1.40020173e-01  7.58595480e-02  2.03734205e-02  3.23485792e-02\n   7.88794485e-02  4.61684771e-02  3.96996344e-02  2.57858166e-03\n  -1.31233328e+00  2.34335133e-01  1.24445693e-01  2.73564190e-02\n   2.66041942e-01  9.61537751e-01  1.37169206e+00  6.24215225e-01\n   4.10801141e-01  9.31487457e-02]]\n\nmean Squared error : \n\n0.03508771929824561\n\nVariance score :\n\n0.8492063492063492\n\naccuracy score: \n\n0.9649122807017544\ncoefficient: [[-4.39993226  0.54954519  0.01842406  1.01795449]]\n\nmean Squared error : \n\n0.0935672514619883\n\nVariance score :\n\n0.5978835978835979\n\naccuracy score: \n\n0.9064327485380117\n"
     ]
    },
    {
     "name": "stderr",
     "output_type": "stream",
     "text": [
      "C:\\Users\\Apurva Sinha\\Anaconda3\\lib\\site-packages\\sklearn\\utils\\validation.py:578: DataConversionWarning: A column-vector y was passed when a 1d array was expected. Please change the shape of y to (n_samples, ), for example using ravel().\n  y = column_or_1d(y, warn=True)\n"
     ]
    }
   ],
   "source": [
    "model = lm()\n",
    "building_model_all(model,train,test)\n",
    "building_model_selective(model,train,test)"
   ]
  },
  {
   "cell_type": "markdown",
   "metadata": {},
   "source": [
    "Building of model using Decision tree using all and selective features"
   ]
  },
  {
   "cell_type": "code",
   "execution_count": null,
   "metadata": {},
   "outputs": [],
   "source": [
    "#decision tree\n",
    "model_tree = tree.DecisionTreeClassifier()\n",
    "building_model_all(model_tree,train,test)\n",
    "building_model_selective(model_tree,train,test)\n"
   ]
  }
 ],
 "metadata": {
  "kernelspec": {
   "display_name": "Python 2",
   "language": "python",
   "name": "python2"
  },
  "language_info": {
   "codemirror_mode": {
    "name": "ipython",
    "version": 2
   },
   "file_extension": ".py",
   "mimetype": "text/x-python",
   "name": "python",
   "nbconvert_exporter": "python",
   "pygments_lexer": "ipython2",
   "version": "2.7.6"
  }
 },
 "nbformat": 4,
 "nbformat_minor": 0
}
