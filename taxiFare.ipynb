{
 "cells": [
  {
   "cell_type": "markdown",
   "metadata": {
    "collapsed": true
   },
   "source": [
    "For predicting the taxi Fare in new york using XGBoost, Linear Regression and Tensor FLow"
   ]
  },
  {
   "cell_type": "code",
   "execution_count": 37,
   "metadata": {},
   "outputs": [],
   "source": [
    "import numpy as np\n",
    "import pandas as pd\n",
    "from sklearn.linear_model import LinearRegression\n",
    "import matplotlib.pyplot as plt\n",
    "import datetime\n",
    "from sklearn.model_selection import train_test_split\n",
    "from sklearn.metrics import mean_squared_error as mse\n",
    "from sklearn.metrics import r2_score\n",
    "from sklearn.metrics import confusion_matrix\n",
    "from sklearn.ensemble import RandomForestRegressor\n",
    "import xgboost as xgb"
   ]
  },
  {
   "cell_type": "code",
   "execution_count": 40,
   "metadata": {},
   "outputs": [
    {
     "name": "stdout",
     "output_type": "stream",
     "text": [
      "Train\n(500000, 7)\n(9914, 7)\n"
     ]
    }
   ],
   "source": [
    "\n",
    "taxi_feature = pd.read_csv(r'C:\\Exercise\\TaxiFare\\train.csv',index_col=0,nrows=500000)\n",
    "taxi_feature_test = pd.read_csv(r'C:\\Exercise\\TaxiFare\\test.csv')\n",
    "print(\"Train\")\n",
    "print(taxi_feature.shape)\n",
    "\n",
    "taxi_feature.dropna(axis=0,how='any')\n",
    "taxi_feature_test.dropna(axis=0,how='any')\n",
    "\n",
    "print(taxi_feature_test.shape)\n"
   ]
  },
  {
   "cell_type": "markdown",
   "metadata": {},
   "source": [
    "1) Check for data inconsistency(null or missing value and outliers). We clearly find outliers by seeing the describe function. latitude lies between -90 to +90 and longitude lies between -180 and +180\n",
    "2) Dropping out -ve fare values which is not possible"
   ]
  },
  {
   "cell_type": "code",
   "execution_count": 41,
   "metadata": {},
   "outputs": [
    {
     "name": "stdout",
     "output_type": "stream",
     "text": [
      "\nTrain data stats\n\n"
     ]
    },
    {
     "name": "stdout",
     "output_type": "stream",
     "text": [
      "         fare_amount  pickup_longitude  pickup_latitude  dropoff_longitude  \\\ncount  500000.000000     500000.000000    500000.000000      499995.000000   \nmean       11.358361        -72.519958        39.920276         -72.522435   \nstd         9.916617         11.856831         8.073475          11.797362   \nmin       -44.900000      -2986.242495     -3116.285383       -3383.296608   \n25%         6.000000        -73.992047        40.734917         -73.991382   \n50%         8.500000        -73.981785        40.752670         -73.980126   \n75%        12.500000        -73.967117        40.767076         -73.963572   \nmax       500.000000       2140.601160      1703.092772          40.851027   \n\n       dropoff_latitude  passenger_count  \ncount     499995.000000    500000.000000  \nmean          39.916526         1.683428  \nstd            7.391002         1.307395  \nmin        -2559.748913         0.000000  \n25%           40.734057         1.000000  \n50%           40.753152         1.000000  \n75%           40.768135         2.000000  \nmax          404.616667         6.000000  \n\nTest data stats\n\n       pickup_longitude  pickup_latitude  dropoff_longitude  dropoff_latitude  \\\ncount       9914.000000      9914.000000        9914.000000       9914.000000   \nmean         -73.974722        40.751041         -73.973657         40.751743   \nstd            0.042774         0.033541           0.039072          0.035435   \nmin          -74.252193        40.573143         -74.263242         40.568973   \n25%          -73.992501        40.736125         -73.991247         40.735254   \n50%          -73.982326        40.753051         -73.980015         40.754065   \n75%          -73.968013        40.767113         -73.964059         40.768757   \nmax          -72.986532        41.709555         -72.990963         41.696683   \n\n       passenger_count  \ncount      9914.000000  \nmean          1.671273  \nstd           1.278747  \nmin           1.000000  \n25%           1.000000  \n50%           1.000000  \n75%           2.000000  \nmax           6.000000  \n                           key          pickup_datetime  pickup_longitude  \\\n0  2015-01-27 13:08:24.0000002  2015-01-27 13:08:24 UTC        -73.973320   \n1  2015-01-27 13:08:24.0000003  2015-01-27 13:08:24 UTC        -73.986862   \n2  2011-10-08 11:53:44.0000002  2011-10-08 11:53:44 UTC        -73.982524   \n3  2012-12-01 21:12:12.0000002  2012-12-01 21:12:12 UTC        -73.981160   \n4  2012-12-01 21:12:12.0000003  2012-12-01 21:12:12 UTC        -73.966046   \n\n   pickup_latitude  dropoff_longitude  dropoff_latitude  passenger_count  \n0        40.763805         -73.981430         40.743835                1  \n1        40.719383         -73.998886         40.739201                1  \n2        40.751260         -73.979654         40.746139                1  \n3        40.767807         -73.990448         40.751635                1  \n4        40.789775         -73.988565         40.744427                1  \n"
     ]
    }
   ],
   "source": [
    "print(\"\\nTrain data stats\\n\")\n",
    "print(taxi_feature.describe())\n",
    "#print(taxi_feature.isnull().sum())\n",
    "print(\"\\nTest data stats\\n\")\n",
    "print(taxi_feature_test.describe())\n",
    "print(taxi_feature_test.head())"
   ]
  },
  {
   "cell_type": "code",
   "execution_count": 42,
   "metadata": {},
   "outputs": [],
   "source": [
    "def outliers(taxi_feature):#finding out outliers in latitude and longitude values\n",
    "    \n",
    "    taxi_feature.drop(taxi_feature[(taxi_feature.pickup_longitude < -180) & (taxi_feature.pickup_longitude > 180)].index,inplace=True)\n",
    "    \n",
    "    taxi_feature.drop(taxi_feature[(taxi_feature.dropoff_longitude > 180) & (taxi_feature.dropoff_longitude < -180)].index,inplace=True)\n",
    "    \n",
    "    taxi_feature.drop(taxi_feature[(taxi_feature.pickup_latitude > 90) & (taxi_feature.pickup_latitude < -90)].index,inplace=True)\n",
    "    \n",
    "    taxi_feature.drop(taxi_feature[(taxi_feature.dropoff_latitude > 90) & (taxi_feature.dropoff_latitude < -90)].index,inplace=True)\n",
    "    \n",
    "    if 'fare_amount' in taxi_feature:\n",
    "        taxi_feature.drop(taxi_feature[taxi_feature.fare_amount < 0].index,inplace=True)\n",
    "#New york city Latitude and longitude coordinates are: 40.730610, -73.935242.\n",
    "#Boundary of New York City is (-75, -73, 40, 42)\n",
    "\n",
    "    taxi_feature.drop(taxi_feature[(taxi_feature.pickup_longitude > 42) & (taxi_feature.pickup_longitude < 40)].index,inplace=True)\n",
    "    \n",
    "    taxi_feature.drop(taxi_feature[(taxi_feature.dropoff_longitude < 40) & (taxi_feature.dropoff_longitude > 42)].index,inplace=True)\n",
    "    \n",
    "    taxi_feature.drop(taxi_feature[(taxi_feature.pickup_latitude < -75) & (taxi_feature.pickup_latitude > -73)].index,inplace=True)\n",
    "    \n",
    "    taxi_feature.drop(taxi_feature[(taxi_feature.dropoff_latitude < -75) & (taxi_feature.dropoff_latitude > -73)].index,inplace=True)\n",
    "\n",
    "    return taxi_feature"
   ]
  },
  {
   "cell_type": "code",
   "execution_count": 43,
   "metadata": {},
   "outputs": [
    {
     "name": "stdout",
     "output_type": "stream",
     "text": [
      "\nTrain data stats\n\n(499979, 7)\n\nTest data stats\n\n(9914, 7)\n"
     ]
    }
   ],
   "source": [
    "#call outliers function for traing and test dataset\n",
    "taxi_feature = outliers(taxi_feature)\n",
    "print(\"\\nTrain data stats\\n\")\n",
    "#print(taxi_feature.describe())\n",
    "print(taxi_feature.shape)\n",
    "print(\"\\nTest data stats\\n\")\n",
    "taxi_feature_test = outliers(taxi_feature_test)\n",
    "#print(taxi_feature_test.describe())\n",
    "print(taxi_feature_test.shape)"
   ]
  },
  {
   "cell_type": "markdown",
   "metadata": {},
   "source": [
    "\n",
    "Split records for month day time format based on column 'pickup datetime'"
   ]
  },
  {
   "cell_type": "code",
   "execution_count": 46,
   "metadata": {},
   "outputs": [],
   "source": [
    "#split pickupdatetime\n",
    "taxi_feature['pickup_datetime'] = pd.to_datetime(taxi_feature['pickup_datetime'])\n",
    "taxi_feature_test['pickup_datetime'] = pd.to_datetime(taxi_feature_test['pickup_datetime'])\n"
   ]
  },
  {
   "cell_type": "code",
   "execution_count": 47,
   "metadata": {},
   "outputs": [],
   "source": [
    "#function to split datetime column into year/month/day/hour and day of week\n",
    "def split_date(df):\n",
    "    taxi_feature['year'] = df.pickup_datetime.dt.year\n",
    "    taxi_feature['month'] = df.pickup_datetime.dt.month\n",
    "    taxi_feature['day'] = df.pickup_datetime.dt.day\n",
    "    taxi_feature['hour'] = df.pickup_datetime.dt.hour\n",
    "    taxi_feature['day_of_week'] = df.pickup_datetime.dt.dayofweek    \n",
    "    return taxi_feature"
   ]
  },
  {
   "cell_type": "code",
   "execution_count": 48,
   "metadata": {
    "collapsed": true
   },
   "outputs": [
    {
     "name": "stdout",
     "output_type": "stream",
     "text": [
      "                               fare_amount  pickup_longitude  pickup_latitude  \\\nkey                                                                             \n2009-06-15 17:26:21.0000001            4.5        -73.844311        40.721319   \n2010-01-05 16:52:16.0000002           16.9        -74.016048        40.711303   \n2011-08-18 00:35:00.00000049           5.7        -73.982738        40.761270   \n2012-04-21 04:30:42.0000001            7.7        -73.987130        40.733143   \n2010-03-09 07:51:00.000000135          5.3        -73.968095        40.768008   \n\n                               dropoff_longitude  dropoff_latitude  \\\nkey                                                                  \n2009-06-15 17:26:21.0000001           -73.841610         40.712278   \n2010-01-05 16:52:16.0000002           -73.979268         40.782004   \n2011-08-18 00:35:00.00000049          -73.991242         40.750562   \n2012-04-21 04:30:42.0000001           -73.991567         40.758092   \n2010-03-09 07:51:00.000000135         -73.956655         40.783762   \n\n                               passenger_count  year  month  day  hour  \\\nkey                                                                      \n2009-06-15 17:26:21.0000001                  1  2009      6   15    17   \n2010-01-05 16:52:16.0000002                  1  2010      1    5    16   \n2011-08-18 00:35:00.00000049                 2  2011      8   18     0   \n2012-04-21 04:30:42.0000001                  1  2012      4   21     4   \n2010-03-09 07:51:00.000000135                1  2010      3    9     7   \n\n                               day_of_week  \nkey                                         \n2009-06-15 17:26:21.0000001              0  \n2010-01-05 16:52:16.0000002              1  \n2011-08-18 00:35:00.00000049             3  \n2012-04-21 04:30:42.0000001              5  \n2010-03-09 07:51:00.000000135            1  \n"
     ]
    }
   ],
   "source": [
    "taxi_feature = split_date(taxi_feature)\n",
    "#drop pickup datetime column\n",
    "taxi_feature.drop('pickup_datetime',axis=1,inplace=True)\n",
    "print(taxi_feature.head())\n"
   ]
  },
  {
   "cell_type": "markdown",
   "metadata": {},
   "source": [
    "plot variation of rush hour  or weekday or no of passenger count which affects the price of taxi in New York"
   ]
  },
  {
   "cell_type": "code",
   "execution_count": 49,
   "metadata": {},
   "outputs": [],
   "source": [
    "#function to split datetime column into year/month/day/hour and day of week\n",
    "def split_date_test(df):\n",
    "    taxi_feature_test['year'] = df.pickup_datetime.dt.year\n",
    "    taxi_feature_test['month'] = df.pickup_datetime.dt.month\n",
    "    taxi_feature_test['day'] = df.pickup_datetime.dt.day\n",
    "    taxi_feature_test['hour'] = df.pickup_datetime.dt.hour\n",
    "    taxi_feature_test['day_of_week'] = df.pickup_datetime.dt.dayofweek    \n",
    "    return taxi_feature_test\n"
   ]
  },
  {
   "cell_type": "code",
   "execution_count": 50,
   "metadata": {},
   "outputs": [
    {
     "name": "stdout",
     "output_type": "stream",
     "text": [
      "                           key  pickup_longitude  pickup_latitude  \\\n0  2015-01-27 13:08:24.0000002        -73.973320        40.763805   \n1  2015-01-27 13:08:24.0000003        -73.986862        40.719383   \n2  2011-10-08 11:53:44.0000002        -73.982524        40.751260   \n3  2012-12-01 21:12:12.0000002        -73.981160        40.767807   \n4  2012-12-01 21:12:12.0000003        -73.966046        40.789775   \n\n   dropoff_longitude  dropoff_latitude  passenger_count  year  month  day  \\\n0         -73.981430         40.743835                1  2015      1   27   \n1         -73.998886         40.739201                1  2015      1   27   \n2         -73.979654         40.746139                1  2011     10    8   \n3         -73.990448         40.751635                1  2012     12    1   \n4         -73.988565         40.744427                1  2012     12    1   \n\n   hour  day_of_week  \n0    13            1  \n1    13            1  \n2    11            5  \n3    21            5  \n4    21            5  \n"
     ]
    }
   ],
   "source": [
    "taxi_feature_test = split_date_test(taxi_feature_test)\n",
    "#drop pickup datetime column\n",
    "taxi_feature_test.drop('pickup_datetime',axis=1,inplace=True)\n",
    "print(taxi_feature_test.head())"
   ]
  },
  {
   "cell_type": "code",
   "execution_count": 38,
   "metadata": {},
   "outputs": [
    {
     "data": {
      "image/png": "[encoded data removed]",
      "text/plain": [
       "<matplotlib.figure.Figure at 0x20894aec3c8>"
      ]
     },
     "metadata": {},
     "output_type": "display_data"
    }
   ],
   "source": [
    "\n",
    "#plot for taxi fare price compared to rush hours/weekday \n",
    "%matplotlib inline \n",
    "plt.figure()\n",
    "plt.scatter(taxi_feature['fare_amount'],taxi_feature['passenger_count'])\n",
    "plt.xlabel(\"Fare Amount\")\n",
    "plt.ylabel(\"Number of Passengers\")\n",
    "plt.show()\n"
   ]
  },
  {
   "cell_type": "markdown",
   "metadata": {},
   "source": [
    "We observe in the plot that the fare is highest for a single commuter. As the number of passengers increases in the cab, the fare goes down"
   ]
  },
  {
   "cell_type": "code",
   "execution_count": 39,
   "metadata": {},
   "outputs": [
    {
     "data": {
      "image/png": "[encoded data removed]",
      "text/plain": [
       "<matplotlib.figure.Figure at 0x208a1d35390>"
      ]
     },
     "metadata": {},
     "output_type": "display_data"
    }
   ],
   "source": [
    "#plot for taxi fare price compared to day of the week \n",
    "plt.figure()\n",
    "plt.scatter(taxi_feature['fare_amount'],taxi_feature['day_of_week'])\n",
    "plt.ylabel(\"day of the week\")\n",
    "plt.xlabel(\"Fare Amount\")\n",
    "plt.show()"
   ]
  },
  {
   "cell_type": "code",
   "execution_count": 40,
   "metadata": {},
   "outputs": [
    {
     "data": {
      "image/png": "[encoded data removed]",
      "text/plain": [
       "<matplotlib.figure.Figure at 0x2089d5f0978>"
      ]
     },
     "metadata": {},
     "output_type": "display_data"
    }
   ],
   "source": [
    "#plot for comparing hour of the day and fare amount\n",
    "plt.figure()\n",
    "plt.scatter(taxi_feature['fare_amount'],taxi_feature['hour'])\n",
    "plt.ylabel(\"Hours of the day\")\n",
    "plt.xlabel(\"Fare Amount\")\n",
    "plt.show()"
   ]
  },
  {
   "cell_type": "markdown",
   "metadata": {},
   "source": [
    "Use of haversine distance to calculate distance between 2 locations using latitude and longitude\n",
    "\n",
    "Haversine\n",
    "formula:\n",
    "--- a = sin²(Δφ/2) + cos φ1 ⋅ cos φ2 ⋅ sin²(Δλ/2)\n",
    "--- c = 2 ⋅ atan2( √a, √(1−a) )\n",
    "--- d = R ⋅ c\n",
    "where\tφ is latitude, λ is longitude, R is earth’s radius (mean radius = 6,371km);\n",
    "note that angles need to be in radians to pass to trig functions!"
   ]
  },
  {
   "cell_type": "code",
   "execution_count": 51,
   "metadata": {},
   "outputs": [],
   "source": [
    "def haversine(df):\n",
    "    R = 6371\n",
    "    delta_lat = np.radians(df['dropoff_latitude'] - df['pickup_latitude'])\n",
    "    delta_long = np.radians(df['dropoff_longitude'] - df['pickup_longitude'])\n",
    "    lat2 = np.radians(df['dropoff_latitude'])\n",
    "    lat1 = np.radians(df['pickup_latitude'])\n",
    "    a = (np.sin(delta_lat/2.0)**2) + (np.sin(delta_long/2.0)**2) * np.cos(lat2) * np.cos(lat1)\n",
    "    c = 2 * (np.arctan2(np.sqrt(a),np.sqrt(1 - a))) \n",
    "    df['distance'] = R * c\n",
    "    return df"
   ]
  },
  {
   "cell_type": "code",
   "execution_count": 52,
   "metadata": {},
   "outputs": [],
   "source": [
    "taxi_feature = haversine(taxi_feature)\n",
    "#print(taxi_feature.head())\n",
    "taxi_feature_test = haversine(taxi_feature_test)\n",
    "#print(taxi_feature_test.head())"
   ]
  },
  {
   "cell_type": "code",
   "execution_count": 53,
   "metadata": {
    "collapsed": false
   },
   "outputs": [
    {
     "name": "stdout",
     "output_type": "stream",
     "text": [
      "fare_amount          0\npickup_longitude     0\npickup_latitude      0\ndropoff_longitude    0\ndropoff_latitude     0\npassenger_count      0\nyear                 0\nmonth                0\nday                  0\nhour                 0\nday_of_week          0\ndistance             0\ndtype: int64\n\n\nkey                  0\npickup_longitude     0\npickup_latitude      0\ndropoff_longitude    0\ndropoff_latitude     0\npassenger_count      0\nyear                 0\nmonth                0\nday                  0\nhour                 0\nday_of_week          0\ndistance             0\ndtype: int64\n"
     ]
    }
   ],
   "source": [
    "taxi_feature['dropoff_longitude'].replace(np.nan,0,inplace=True)\n",
    "taxi_feature['dropoff_latitude'].replace(np.nan,0,inplace=True)\n",
    "taxi_feature['distance'].replace(np.nan,0,inplace=True)\n",
    "taxi_feature.dropna(axis=0,how='any')\n",
    "print(taxi_feature.isnull().sum())\n",
    "print(\"\\n\")\n",
    "#test data\n",
    "taxi_feature_test['dropoff_longitude'].replace(np.nan,0,inplace=True)\n",
    "taxi_feature_test['dropoff_latitude'].replace(np.nan,0,inplace=True)\n",
    "taxi_feature_test['distance'].replace(np.nan,0,inplace=True)\n",
    "taxi_feature_test.dropna(axis=0,how='any')\n",
    "print(taxi_feature_test.isnull().sum())"
   ]
  },
  {
   "cell_type": "code",
   "execution_count": 54,
   "metadata": {},
   "outputs": [
    {
     "name": "stdout",
     "output_type": "stream",
     "text": [
      "y: \n                               fare_amount\nkey                                       \n2009-06-15 17:26:21.0000001            4.5\n2010-01-05 16:52:16.0000002           16.9\n2011-08-18 00:35:00.00000049           5.7\n2012-04-21 04:30:42.0000001            7.7\n2010-03-09 07:51:00.000000135          5.3\nx: \n                               pickup_longitude  pickup_latitude  \\\nkey                                                                \n2009-06-15 17:26:21.0000001          -73.844311        40.721319   \n2010-01-05 16:52:16.0000002          -74.016048        40.711303   \n2011-08-18 00:35:00.00000049         -73.982738        40.761270   \n2012-04-21 04:30:42.0000001          -73.987130        40.733143   \n2010-03-09 07:51:00.000000135        -73.968095        40.768008   \n\n                               dropoff_longitude  dropoff_latitude  \\\nkey                                                                  \n2009-06-15 17:26:21.0000001           -73.841610         40.712278   \n2010-01-05 16:52:16.0000002           -73.979268         40.782004   \n2011-08-18 00:35:00.00000049          -73.991242         40.750562   \n2012-04-21 04:30:42.0000001           -73.991567         40.758092   \n2010-03-09 07:51:00.000000135         -73.956655         40.783762   \n\n                               passenger_count  year  month  day  hour  \\\nkey                                                                      \n2009-06-15 17:26:21.0000001                  1  2009      6   15    17   \n2010-01-05 16:52:16.0000002                  1  2010      1    5    16   \n2011-08-18 00:35:00.00000049                 2  2011      8   18     0   \n2012-04-21 04:30:42.0000001                  1  2012      4   21     4   \n2010-03-09 07:51:00.000000135                1  2010      3    9     7   \n\n                               day_of_week  distance  \nkey                                                   \n2009-06-15 17:26:21.0000001              0  1.030764  \n2010-01-05 16:52:16.0000002              1  8.450134  \n2011-08-18 00:35:00.00000049             3  1.389525  \n2012-04-21 04:30:42.0000001              5  2.799270  \n2010-03-09 07:51:00.000000135            1  1.999157  \n"
     ]
    }
   ],
   "source": [
    "#taxi_feature= taxi_feature.reset_index()\n",
    "taxi_feature_x = taxi_feature.iloc[:,1:]\n",
    "taxi_feature_y = taxi_feature.iloc[:,0:1]\n",
    "print(\"y: \\n\" + str(taxi_feature_y.head()))\n",
    "print(\"x: \\n\" + str(taxi_feature_x.head()))"
   ]
  },
  {
   "cell_type": "code",
   "execution_count": 59,
   "metadata": {},
   "outputs": [
    {
     "name": "stdout",
     "output_type": "stream",
     "text": [
      "coefficient :[[ 2.24019998e-03 -1.81140636e-04  4.03909787e-03  2.55584133e-03\n   9.60289149e-02  6.39185204e-01  1.09491974e-01  3.14259891e-03\n  -3.00362027e-02 -2.55251023e-03  6.39379073e-04]]\nMSE:\n92.10394169307858\nR2_score0.01645734573494151\n"
     ]
    }
   ],
   "source": [
    "#split dataset\n",
    "x_train, x_test,y_train, y_test = \\\n",
    "    train_test_split(taxi_feature_x,taxi_feature_y,random_state=0,test_size=0.2)\n",
    "\n",
    "#linear regression\n",
    "lm_same = LinearRegression()\n",
    "lm_model_same = lm_same.fit(x_train,y_train)\n",
    "lm_y_same = lm_model_same.predict(x_test)\n",
    "print(\"coefficient :\" + str(lm_model_same.coef_))\n",
    "print(\"MSE:\\n\" + str(mse(y_test,lm_y_same)))\n",
    "print(\"R2_score\" + str(r2_score(y_test,lm_y_same)))\n"
   ]
  },
  {
   "cell_type": "code",
   "execution_count": 60,
   "metadata": {
    "collapsed": false
   },
   "outputs": [
    {
     "name": "stderr",
     "output_type": "stream",
     "text": [
      "C:\\Users\\Apurva Sinha\\Anaconda3\\lib\\site-packages\\ipykernel_launcher.py:2: DataConversionWarning: A column-vector y was passed when a 1d array was expected. Please change the shape of y to (n_samples,), for example using ravel().\n  \n"
     ]
    },
    {
     "name": "stdout",
     "output_type": "stream",
     "text": [
      "MSE:\n22.327844191801706\n"
     ]
    }
   ],
   "source": [
    "rf = RandomForestRegressor(random_state=30)\n",
    "rf.fit(x_train, y_train)\n",
    "rf_predict = rf.predict(x_test)\n",
    "print(\"MSE:\\n\" + str(mse(y_test,rf_predict)))\n"
   ]
  },
  {
   "cell_type": "code",
   "execution_count": 66,
   "metadata": {},
   "outputs": [],
   "source": [
    "#final prediction\n",
    "#print(taxi_feature_test.head())\n",
    "\n",
    "#print(taxi_feature_test.keys())\n",
    "y_pred_final = rf.predict(taxi_feature_test.iloc[:,1:])\n",
    "\n",
    "submission = pd.DataFrame(\n",
    "    {'key': taxi_feature_test['key'],'fare_amount': y_pred_final},\n",
    "    columns = ['key', 'fare_amount'])\n",
    "#print(submission)\n",
    "submission.to_csv('C:\\Exercise\\TaxiFare\\submission.csv', index = False)"
   ]
  },
  {
   "cell_type": "code",
   "execution_count": null,
   "metadata": {},
   "outputs": [],
   "source": [
    "#implement xgboost"
   ]
  }
 ],
 "metadata": {
  "kernelspec": {
   "display_name": "Python 2",
   "language": "python",
   "name": "python2"
  },
  "language_info": {
   "codemirror_mode": {
    "name": "ipython",
    "version": 2
   },
   "file_extension": ".py",
   "mimetype": "text/x-python",
   "name": "python",
   "nbconvert_exporter": "python",
   "pygments_lexer": "ipython2",
   "version": "2.7.6"
  }
 },
 "nbformat": 4,
 "nbformat_minor": 0
}
